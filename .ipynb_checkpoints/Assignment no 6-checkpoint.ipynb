{
 "cells": [
  {
   "cell_type": "markdown",
   "id": "e9f74879-2d97-48b0-a133-9504197312f1",
   "metadata": {},
   "source": [
    "# Question 1"
   ]
  },
  {
   "cell_type": "code",
   "execution_count": 12,
   "id": "71f23829-41fa-406d-8a2b-8bdcb1cc0925",
   "metadata": {},
   "outputs": [
    {
     "name": "stdout",
     "output_type": "stream",
     "text": [
      "* \n",
      "* * \n",
      "* * * \n",
      "* * * * \n",
      "* * * * * \n",
      "* * * * \n",
      "* * * \n",
      "* * \n",
      "* \n"
     ]
    }
   ],
   "source": [
    "n = 5\n",
    "\n",
    "for i in range(1, n + 1):\n",
    "    print ('* ' * i)\n",
    "\n",
    "for i in range(n -1, 0, -1):\n",
    "    print ('* ' * i)"
   ]
  },
  {
   "cell_type": "markdown",
   "id": "64ae93be-1d41-4874-b5c3-e89a83575c44",
   "metadata": {},
   "source": [
    "# Question 2"
   ]
  },
  {
   "cell_type": "code",
   "execution_count": 5,
   "id": "94018e7a-04b5-44c6-a036-00cc31fe2392",
   "metadata": {},
   "outputs": [
    {
     "name": "stdin",
     "output_type": "stream",
     "text": [
      "Enter an alphabet:  a\n"
     ]
    },
    {
     "name": "stdout",
     "output_type": "stream",
     "text": [
      "a is a vowel.\n"
     ]
    }
   ],
   "source": [
    "letter = input(\"Enter an alphabet: \").lower()\n",
    "\n",
    "if len(letter) == 1 and letter.isalpha():\n",
    "    if letter in 'aeiou':\n",
    "        print(f\"{letter} is a vowel.\")\n",
    "    else:\n",
    "        print(f\"{letter} is a consonant.\")\n",
    "else:\n",
    "    print(\"Please enter a single alphabet.\")\n",
    "    "
   ]
  },
  {
   "cell_type": "markdown",
   "id": "1f6c1553-3486-4e41-b0ff-84f77147a9ea",
   "metadata": {},
   "source": [
    "# Question 3"
   ]
  },
  {
   "cell_type": "code",
   "execution_count": 10,
   "id": "b2e86494-6f05-45a4-9028-6c547cbaa453",
   "metadata": {},
   "outputs": [
    {
     "name": "stdin",
     "output_type": "stream",
     "text": [
      "Input a number:  6\n"
     ]
    },
    {
     "name": "stdout",
     "output_type": "stream",
     "text": [
      "6 x 1 = 6\n",
      "6 x 2 = 12\n",
      "6 x 3 = 18\n",
      "6 x 4 = 24\n",
      "6 x 5 = 30\n",
      "6 x 6 = 36\n",
      "6 x 7 = 42\n",
      "6 x 8 = 48\n",
      "6 x 9 = 54\n",
      "6 x 10 = 60\n"
     ]
    }
   ],
   "source": [
    "number = int(input(\"Input a number: \"))\n",
    "\n",
    "for i in range(1, 11):\n",
    "    print(f\"{number} x {i} = {number * i}\")"
   ]
  },
  {
   "cell_type": "markdown",
   "id": "d7b1efcb-3393-40f2-b729-18777306d8ef",
   "metadata": {},
   "source": [
    "# Question 4"
   ]
  },
  {
   "cell_type": "code",
   "execution_count": 21,
   "id": "5c0a169b-92c0-491b-8abb-78e855530976",
   "metadata": {},
   "outputs": [
    {
     "name": "stdin",
     "output_type": "stream",
     "text": [
      "Guess a number between 1 and 9:  1\n"
     ]
    },
    {
     "name": "stdout",
     "output_type": "stream",
     "text": [
      "Try again!\n"
     ]
    },
    {
     "name": "stdin",
     "output_type": "stream",
     "text": [
      "Guess a number between 1 and 9:  2\n"
     ]
    },
    {
     "name": "stdout",
     "output_type": "stream",
     "text": [
      "Try again!\n"
     ]
    },
    {
     "name": "stdin",
     "output_type": "stream",
     "text": [
      "Guess a number between 1 and 9:  3\n"
     ]
    },
    {
     "name": "stdout",
     "output_type": "stream",
     "text": [
      "Try again!\n"
     ]
    },
    {
     "name": "stdin",
     "output_type": "stream",
     "text": [
      "Guess a number between 1 and 9:  4\n"
     ]
    },
    {
     "name": "stdout",
     "output_type": "stream",
     "text": [
      "Well guessed!\n"
     ]
    }
   ],
   "source": [
    "import random\n",
    "\n",
    "target_number = random.randint(1, 9)\n",
    "\n",
    "user_guess = None\n",
    "\n",
    "while user_guess != target_number:\n",
    "    user_guess = int(input(\"Guess a number between 1 and 9: \"))\n",
    "\n",
    "    if user_guess == target_number:\n",
    "        print(\"Well guessed!\")\n",
    "    else:\n",
    "        print(\"Try again!\")"
   ]
  },
  {
   "cell_type": "markdown",
   "id": "2a2bd376-df2e-4344-98dd-af1895ec3090",
   "metadata": {},
   "source": [
    "# Question 5"
   ]
  },
  {
   "cell_type": "code",
   "execution_count": 56,
   "id": "d4e031b3-a3e0-4b1d-b290-6f33f7794996",
   "metadata": {},
   "outputs": [
    {
     "name": "stdout",
     "output_type": "stream",
     "text": [
      "Height > 6ft and Weight > 70kg:\n",
      "{'Cierra Vega': (6.2, 70)}\n"
     ]
    }
   ],
   "source": [
    "students = {\n",
    "    'Cierra Vega': (6.2, 70),\n",
    "    'Alden Cantrell': (5.9, 65),\n",
    "    'Kierra Gentry': (6.0, 68),\n",
    "    'Pierre Cox': (5.8, 66)\n",
    "}\n",
    "\n",
    "filtered_students = {name: (height, weight) for name, (height, weight) in students.items() if height >= 6 and weight >= 70}\n",
    "\n",
    "print(\"Height > 6ft and Weight > 70kg:\")\n",
    "print(filtered_students)"
   ]
  },
  {
   "cell_type": "markdown",
   "id": "57d82cbf-b4e7-4698-88f3-36117d90a695",
   "metadata": {},
   "source": [
    "# Question 6"
   ]
  },
  {
   "cell_type": "code",
   "execution_count": 65,
   "id": "f9804f58-e328-403a-acde-1b3eed1a84ce",
   "metadata": {},
   "outputs": [
    {
     "name": "stdout",
     "output_type": "stream",
     "text": [
      "Clear the list values in the said dictionary:\n",
      "{'C1': [], 'C2': [], 'C3': []}\n"
     ]
    }
   ],
   "source": [
    "original_dict = {'C1': [10, 20, 30], 'C2': [20, 30, 40], 'C3': [12, 34]}\n",
    "\n",
    "for key in original_dict:\n",
    "    original_dict[key] = []\n",
    "\n",
    "print(\"Clear the list values in the said dictionary:\")\n",
    "print(original_dict)"
   ]
  },
  {
   "cell_type": "markdown",
   "id": "99376444-2b90-4716-ad63-f0991ed9d2a2",
   "metadata": {},
   "source": [
    "# Question 7"
   ]
  },
  {
   "cell_type": "code",
   "execution_count": 78,
   "id": "a4889449-4024-4f91-946b-4bde6d7238d3",
   "metadata": {},
   "outputs": [
    {
     "name": "stdout",
     "output_type": "stream",
     "text": [
      "The Nile runs through Egypt.\n",
      "The Amazon runs through Brazil.\n",
      "The Yangtze runs through China.\n",
      "\n",
      "Rivers included in the dictionary:\n",
      "Nile\n",
      "Amazon\n",
      "Yangtze\n",
      "\n",
      "Countries included in the dictionary:\n",
      "Egypt\n",
      "Brazil\n",
      "China\n"
     ]
    }
   ],
   "source": [
    "rivers = {\n",
    "    'nile': 'egypt',\n",
    "    'amazon': 'brazil',\n",
    "    'yangtze': 'china'\n",
    "}\n",
    "\n",
    "for river, country in rivers.items():\n",
    "    print(f\"The {river.title()} runs through {country.title()}.\")\n",
    "\n",
    "print(\"\\nRivers included in the dictionary:\")\n",
    "for river in rivers.keys():\n",
    "    print(river.title())\n",
    "\n",
    "print(\"\\nCountries included in the dictionary:\")\n",
    "for country in rivers.values():\n",
    "    print(country.title())"
   ]
  },
  {
   "cell_type": "markdown",
   "id": "646a658b-8ea2-4a73-b127-405032a6c63c",
   "metadata": {},
   "source": [
    "# Question 8"
   ]
  },
  {
   "cell_type": "code",
   "execution_count": 2,
   "id": "13d719e9-3c58-493f-a482-b93d44d7ad58",
   "metadata": {},
   "outputs": [
    {
     "name": "stdin",
     "output_type": "stream",
     "text": [
      "Please enter your age (or type 'quit' to exit):  3\n"
     ]
    },
    {
     "name": "stdout",
     "output_type": "stream",
     "text": [
      "The cost of your movie ticket is free.\n",
      "\n"
     ]
    },
    {
     "name": "stdin",
     "output_type": "stream",
     "text": [
      "Please enter your age (or type 'quit' to exit):  5\n"
     ]
    },
    {
     "name": "stdout",
     "output_type": "stream",
     "text": [
      "The cost of your movie ticket is $10.\n",
      "\n"
     ]
    },
    {
     "name": "stdin",
     "output_type": "stream",
     "text": [
      "Please enter your age (or type 'quit' to exit):  12\n"
     ]
    },
    {
     "name": "stdout",
     "output_type": "stream",
     "text": [
      "The cost of your movie ticket is $10.\n",
      "\n"
     ]
    },
    {
     "name": "stdin",
     "output_type": "stream",
     "text": [
      "Please enter your age (or type 'quit' to exit):  13\n"
     ]
    },
    {
     "name": "stdout",
     "output_type": "stream",
     "text": [
      "The cost of your movie ticket is $15.\n",
      "\n"
     ]
    },
    {
     "name": "stdin",
     "output_type": "stream",
     "text": [
      "Please enter your age (or type 'quit' to exit):  quit\n"
     ]
    }
   ],
   "source": [
    "while True:\n",
    "    age_input = input(\"Please enter your age (or type 'quit' to exit): \")\n",
    "\n",
    "    if age_input.lower() == 'quit':\n",
    "        break\n",
    "\n",
    "    age = int(age_input)\n",
    "\n",
    "    if age <= 3:\n",
    "        ticket_price = \"free\"\n",
    "    elif 3 <= age <= 12:\n",
    "        ticket_price = \"$10\"\n",
    "    else:\n",
    "        ticket_price = \"$15\"\n",
    "\n",
    "    print(f\"The cost of your movie ticket is {ticket_price}.\\n\")"
   ]
  },
  {
   "cell_type": "code",
   "execution_count": null,
   "id": "abd50952-b89c-40db-abb4-f7cd5289feb9",
   "metadata": {},
   "outputs": [],
   "source": []
  }
 ],
 "metadata": {
  "kernelspec": {
   "display_name": "Python 3 (ipykernel)",
   "language": "python",
   "name": "python3"
  },
  "language_info": {
   "codemirror_mode": {
    "name": "ipython",
    "version": 3
   },
   "file_extension": ".py",
   "mimetype": "text/x-python",
   "name": "python",
   "nbconvert_exporter": "python",
   "pygments_lexer": "ipython3",
   "version": "3.12.4"
  }
 },
 "nbformat": 4,
 "nbformat_minor": 5
}
